{
 "cells": [
  {
   "cell_type": "markdown",
   "metadata": {},
   "source": [
    "# Regressão 01 - tarefa 03 - transformações em X e Y"
   ]
  },
  {
   "cell_type": "markdown",
   "metadata": {},
   "source": [
    "Carregue os pacotes necessários e a base de gorjetas.\n",
    "\n",
    "### I. Modelo no valor da gorjeta\n",
    "\n",
    "1. Crie a matriz de design (e a matriz y) utilizando o Patsy, para um modelo em ```tip```, explicada por ```sex, smoker, diner e net_bill```.  \n",
    "2. Remova as variáveis não significantes.  \n",
    "3. observe o gráfico de resíduos em função de ```net_bill```  \n",
    "4. teste transformar ```net_bill``` no log e um polinômio. Escolha o melhor modelo."
   ]
  },
  {
   "cell_type": "code",
   "execution_count": 1,
   "metadata": {},
   "outputs": [],
   "source": [
    "import pandas as pd\n",
    "import seaborn as sns\n",
    "import patsy\n",
    "import statsmodels.api as sm\n",
    "import numpy as np\n",
    "import itertools"
   ]
  },
  {
   "cell_type": "code",
   "execution_count": 2,
   "metadata": {},
   "outputs": [
    {
     "data": {
      "text/html": [
       "<div>\n",
       "<style scoped>\n",
       "    .dataframe tbody tr th:only-of-type {\n",
       "        vertical-align: middle;\n",
       "    }\n",
       "\n",
       "    .dataframe tbody tr th {\n",
       "        vertical-align: top;\n",
       "    }\n",
       "\n",
       "    .dataframe thead th {\n",
       "        text-align: right;\n",
       "    }\n",
       "</style>\n",
       "<table border=\"1\" class=\"dataframe\">\n",
       "  <thead>\n",
       "    <tr style=\"text-align: right;\">\n",
       "      <th></th>\n",
       "      <th>total_bill</th>\n",
       "      <th>tip</th>\n",
       "      <th>sex</th>\n",
       "      <th>smoker</th>\n",
       "      <th>day</th>\n",
       "      <th>time</th>\n",
       "      <th>size</th>\n",
       "      <th>tip_pct</th>\n",
       "      <th>net_bill</th>\n",
       "    </tr>\n",
       "  </thead>\n",
       "  <tbody>\n",
       "    <tr>\n",
       "      <th>0</th>\n",
       "      <td>16.99</td>\n",
       "      <td>1.01</td>\n",
       "      <td>Female</td>\n",
       "      <td>No</td>\n",
       "      <td>Sun</td>\n",
       "      <td>Dinner</td>\n",
       "      <td>2</td>\n",
       "      <td>0.063204</td>\n",
       "      <td>15.98</td>\n",
       "    </tr>\n",
       "    <tr>\n",
       "      <th>1</th>\n",
       "      <td>10.34</td>\n",
       "      <td>1.66</td>\n",
       "      <td>Male</td>\n",
       "      <td>No</td>\n",
       "      <td>Sun</td>\n",
       "      <td>Dinner</td>\n",
       "      <td>3</td>\n",
       "      <td>0.191244</td>\n",
       "      <td>8.68</td>\n",
       "    </tr>\n",
       "    <tr>\n",
       "      <th>2</th>\n",
       "      <td>21.01</td>\n",
       "      <td>3.50</td>\n",
       "      <td>Male</td>\n",
       "      <td>No</td>\n",
       "      <td>Sun</td>\n",
       "      <td>Dinner</td>\n",
       "      <td>3</td>\n",
       "      <td>0.199886</td>\n",
       "      <td>17.51</td>\n",
       "    </tr>\n",
       "    <tr>\n",
       "      <th>3</th>\n",
       "      <td>23.68</td>\n",
       "      <td>3.31</td>\n",
       "      <td>Male</td>\n",
       "      <td>No</td>\n",
       "      <td>Sun</td>\n",
       "      <td>Dinner</td>\n",
       "      <td>2</td>\n",
       "      <td>0.162494</td>\n",
       "      <td>20.37</td>\n",
       "    </tr>\n",
       "    <tr>\n",
       "      <th>4</th>\n",
       "      <td>24.59</td>\n",
       "      <td>3.61</td>\n",
       "      <td>Female</td>\n",
       "      <td>No</td>\n",
       "      <td>Sun</td>\n",
       "      <td>Dinner</td>\n",
       "      <td>4</td>\n",
       "      <td>0.172069</td>\n",
       "      <td>20.98</td>\n",
       "    </tr>\n",
       "  </tbody>\n",
       "</table>\n",
       "</div>"
      ],
      "text/plain": [
       "   total_bill   tip     sex smoker  day    time  size   tip_pct  net_bill\n",
       "0       16.99  1.01  Female     No  Sun  Dinner     2  0.063204     15.98\n",
       "1       10.34  1.66    Male     No  Sun  Dinner     3  0.191244      8.68\n",
       "2       21.01  3.50    Male     No  Sun  Dinner     3  0.199886     17.51\n",
       "3       23.68  3.31    Male     No  Sun  Dinner     2  0.162494     20.37\n",
       "4       24.59  3.61  Female     No  Sun  Dinner     4  0.172069     20.98"
      ]
     },
     "execution_count": 2,
     "metadata": {},
     "output_type": "execute_result"
    }
   ],
   "source": [
    "# carrega a base de dados\n",
    "\n",
    "tips = sns.load_dataset('tips')\n",
    "tips['tip_pct'] = tips['tip']/(tips['total_bill'] - tips['tip'])\n",
    "tips['net_bill'] = tips['total_bill'] - tips['tip']\n",
    "\n",
    "tips.head()"
   ]
  },
  {
   "cell_type": "code",
   "execution_count": 13,
   "metadata": {},
   "outputs": [],
   "source": [
    "# ajustando o modelo\n",
    "\n",
    "def modelo(formula: str, df):\n",
    "    \n",
    "    \n",
    "    y_m, X_m = patsy.dmatrices(formula, data=df)\n",
    "    modelo_m = sm.OLS(y_m, X_m).fit()\n",
    "    #salva os coeficientes e os valores de p associados e o valores de R²\n",
    "    p_values = modelo_m.pvalues\n",
    "    coef = modelo_m.params\n",
    "    r_2_values = modelo_m.rsquared\n",
    "    \n",
    "    # cria um df com as informações acima\n",
    "    df = pd.DataFrame({'coef': coef, 'p_values': p_values, 'R² values': r_2_values})\n",
    "    print(df)"
   ]
  },
  {
   "cell_type": "code",
   "execution_count": 4,
   "metadata": {},
   "outputs": [
    {
     "name": "stdout",
     "output_type": "stream",
     "text": [
      "tip ~ sex + smoker + time + net_bill\n",
      "       coef      p_values  R² values\n",
      "0  1.199928  1.389032e-06   0.335248\n",
      "1 -0.003445  9.824382e-01   0.335248\n",
      "2  0.140475  3.523485e-01   0.335248\n",
      "3  0.058391  7.287609e-01   0.335248\n",
      "4  0.099509  5.764964e-22   0.335248\n",
      "tip ~ smoker + time + net_bill\n",
      "       coef      p_values  R² values\n",
      "0  1.197778  1.510610e-07   0.335247\n",
      "1  0.140536  3.510503e-01   0.335247\n",
      "2  0.059074  7.205720e-01   0.335247\n",
      "3  0.099533  2.803185e-22   0.335247\n",
      "tip ~ sex + smoker + time\n",
      "       coef      p_values  R² values\n",
      "0  2.826715  1.420098e-27   0.019056\n",
      "1 -0.192305  3.081982e-01   0.019056\n",
      "2  0.000534  9.976601e-01   0.019056\n",
      "3  0.332451  1.002491e-01   0.019056\n",
      "tip ~ sex + smoker + net_bill\n",
      "       coef      p_values  R² values\n",
      "0  1.238640  2.457761e-08   0.334913\n",
      "1 -0.013453  9.301877e-01   0.334913\n",
      "2  0.138310  3.585092e-01   0.334913\n",
      "3  0.100004  1.285607e-22   0.334913\n",
      "tip ~ time + net_bill\n",
      "       coef      p_values  R² values\n",
      "0  1.301460  8.290333e-11   0.332828\n",
      "1  0.053120  7.474699e-01   0.332828\n",
      "2  0.098793  3.572172e-22   0.332828\n",
      "tip ~ smoker + net_bill\n",
      "       coef      p_values  R² values\n",
      "0  1.231780  2.831932e-09   0.334891\n",
      "1  0.138455  3.569833e-01   0.334891\n",
      "2  0.100122  4.026803e-23   0.334891\n",
      "tip ~ smoker + time\n",
      "       coef      p_values  R² values\n",
      "0  2.726670  2.124996e-30   0.014794\n",
      "1  0.002143  9.906182e-01   0.014794\n",
      "2  0.374710  5.861488e-02   0.014794\n",
      "tip ~ sex + smoker\n",
      "       coef      p_values  R² values\n",
      "0  3.099592  6.154133e-52   0.007929\n",
      "1 -0.256123  1.674074e-01   0.007929\n",
      "2 -0.016144  9.295504e-01   0.007929\n",
      "tip ~ sex + net_bill\n",
      "       coef      p_values  R² values\n",
      "0  1.338235  6.829895e-12   0.332567\n",
      "1 -0.015005  9.221260e-01   0.332567\n",
      "2  0.099203  1.604815e-22   0.332567\n",
      "tip ~ smoker\n",
      "       coef      p_values  R² values\n",
      "0  3.008710  3.282560e-56   0.000035\n",
      "1 -0.016855  9.265932e-01   0.000035\n",
      "tip ~ time\n",
      "       coef      p_values  R² values\n",
      "0  2.728088  5.682159e-41   0.014794\n",
      "1  0.374582  5.780153e-02   0.014794\n",
      "tip ~ net_bill\n",
      "       coef      p_values  R² values\n",
      "0  1.330698  9.349339e-14   0.332541\n",
      "1  0.099334  5.018290e-23   0.332541\n",
      "tip ~ sex\n",
      "       coef      p_values  R² values\n",
      "0  3.089618  5.856881e-78   0.007896\n",
      "1 -0.256170  1.664562e-01   0.007896\n"
     ]
    }
   ],
   "source": [
    "formulas = (['tip ~ sex + smoker + time + net_bill', \n",
    "             'tip ~ smoker + time + net_bill',\n",
    "             'tip ~ sex + smoker + time',\n",
    "             'tip ~ sex + smoker + net_bill',\n",
    "             'tip ~ time + net_bill',\n",
    "             'tip ~ smoker + net_bill',\n",
    "             'tip ~ smoker + time',\n",
    "             'tip ~ sex + smoker',\n",
    "             'tip ~ sex + net_bill',\n",
    "             'tip ~ smoker',\n",
    "             'tip ~ time',\n",
    "             'tip ~ net_bill',\n",
    "             'tip ~ sex'])\n",
    "\n",
    "for formula in formulas:\n",
    "    print(formula)\n",
    "    modelo(formula, tips)"
   ]
  },
  {
   "cell_type": "markdown",
   "metadata": {},
   "source": [
    "A varíavel net_bill é que possui melhor descrição, e pode ser usada sozinha."
   ]
  },
  {
   "cell_type": "code",
   "execution_count": 5,
   "metadata": {},
   "outputs": [
    {
     "data": {
      "text/plain": [
       "<AxesSubplot:xlabel='net_bill'>"
      ]
     },
     "execution_count": 5,
     "metadata": {},
     "output_type": "execute_result"
    },
    {
     "data": {
      "image/png": "[encoded data removed]",
      "text/plain": [
       "<Figure size 640x480 with 1 Axes>"
      ]
     },
     "metadata": {},
     "output_type": "display_data"
    }
   ],
   "source": [
    "y, X = patsy.dmatrices('tip ~ net_bill', data=tips)\n",
    "modelo = sm.OLS(y, X).fit()\n",
    "\n",
    "# usando residplot\n",
    "sns.residplot(data=tips, x='net_bill', y=modelo.resid)"
   ]
  },
  {
   "cell_type": "code",
   "execution_count": 8,
   "metadata": {},
   "outputs": [
    {
     "name": "stdout",
     "output_type": "stream",
     "text": [
      "tip ~ np.log(net_bill)\n",
      "       coef      p_values  R² values\n",
      "0 -1.257482  3.778800e-03   0.294441\n",
      "1  1.569520  4.399804e-20   0.294441\n",
      "tip ~ net_bill + np.power(net_bill,2)\n",
      "       coef  p_values  R² values\n",
      "0  1.074262  0.002631   0.334422\n",
      "1  0.128847  0.000569   0.334422\n",
      "2 -0.000691  0.410043   0.334422\n"
     ]
    }
   ],
   "source": [
    "formulas = ['tip ~ np.log(net_bill)', 'tip ~ net_bill + np.power(net_bill,2)']\n",
    "\n",
    "for formula in formulas:\n",
    "    print(formula)\n",
    "    modelo(formula, tips)"
   ]
  },
  {
   "cell_type": "markdown",
   "metadata": {},
   "source": [
    "O ajuste de net_bill por polinômios fornece um R² melhor que o do log. Porém, a variável sem ajustes já é suficiente para explicar."
   ]
  },
  {
   "cell_type": "markdown",
   "metadata": {},
   "source": [
    "### II. Modelo no valor do percentual da gorjeta\n",
    "\n",
    "1. Crie a matriz de design (e a matriz y) utilizando o Patsy, para um modelo no log de ```tip_pct```, explicado por ```sex, smoker, diner e net_bill```.\n",
    "2. Remova as variáveis não significantes.\n",
    "3. Observe o gráfico de resíduos em função de ```net_bill```\n",
    "4. Teste transformar ```net_bill``` no log e um polinômio. Escolha o melhor modelo.\n",
    "5. Do modelo final deste item, calcule o $R^2$ na escala de ```tip``` (sem o log). Compare com o modelo do item 1. Qual tem melhor coeficiente de determinação?"
   ]
  },
  {
   "cell_type": "code",
   "execution_count": 9,
   "metadata": {},
   "outputs": [],
   "source": [
    "# restringindo os valores de até 70% para a porcentagem\n",
    "\n",
    "tips_1 = tips[tips['tip_pct'] <= 0.7]"
   ]
  },
  {
   "cell_type": "code",
   "execution_count": 10,
   "metadata": {},
   "outputs": [
    {
     "name": "stdout",
     "output_type": "stream",
     "text": [
      "tip_pct ~ sex + smoker + time + net_bill\n",
      "       coef      p_values  R² values\n",
      "0  0.252447  4.033981e-49   0.190988\n",
      "1  0.004790  5.770744e-01   0.190988\n",
      "2 -0.002809  7.352001e-01   0.190988\n",
      "3  0.001937  8.336246e-01   0.190988\n",
      "4 -0.003734  6.948451e-12   0.190988\n",
      "tip_pct ~ smoker + time + net_bill\n",
      "       coef      p_values  R² values\n",
      "0  0.255424  1.269196e-55   0.189924\n",
      "1 -0.002884  7.280778e-01   0.189924\n",
      "2  0.000981  9.136615e-01   0.189924\n",
      "3 -0.003766  3.373084e-12   0.189924\n",
      "tip_pct ~ sex + smoker + time\n",
      "       coef      p_values  R² values\n",
      "0  0.190761  2.413603e-42   0.012956\n",
      "1  0.011655  2.160890e-01   0.012956\n",
      "2  0.003589  6.933968e-01   0.012956\n",
      "3 -0.008949  3.726308e-01   0.012956\n",
      "tip_pct ~ sex + smoker + net_bill\n",
      "       coef      p_values  R² values\n",
      "0  0.253692  1.027457e-56   0.190838\n",
      "1  0.004455  5.968660e-01   0.190838\n",
      "2 -0.002862  7.297874e-01   0.190838\n",
      "3 -0.003716  4.280847e-12   0.190838\n",
      "tip_pct ~ time + net_bill\n",
      "       coef      p_values  R² values\n",
      "0  0.253243  6.469586e-66   0.189512\n",
      "1  0.001068  9.058164e-01   0.189512\n",
      "2 -0.003747  2.994229e-12   0.189512\n",
      "tip_pct ~ smoker + net_bill\n",
      "       coef      p_values  R² values\n",
      "0  0.255967  2.439094e-62   0.189884\n",
      "1 -0.002908  7.251760e-01   0.189884\n",
      "2 -0.003755  1.516771e-12   0.189884\n",
      "tip_pct ~ smoker + time\n",
      "       coef      p_values  R² values\n",
      "0  0.196792  2.962548e-50   0.006576\n",
      "1  0.003542  6.975686e-01   0.006576\n",
      "2 -0.011534  2.408685e-01   0.006576\n",
      "tip_pct ~ sex + smoker\n",
      "       coef      p_values  R² values\n",
      "0  0.183460  1.579562e-63   0.009647\n",
      "1  0.013402  1.459685e-01   0.009647\n",
      "2  0.003984  6.611784e-01   0.009647\n",
      "tip_pct ~ sex + net_bill\n",
      "       coef      p_values  R² values\n",
      "0  0.251558  2.475565e-67   0.190431\n",
      "1  0.004486  5.936342e-01   0.190431\n",
      "2 -0.003696  3.721893e-12   0.190431\n",
      "tip_pct ~ smoker\n",
      "       coef      p_values  R² values\n",
      "0  0.188173  2.775210e-72    0.00083\n",
      "1  0.004064  6.555641e-01    0.00083\n",
      "tip_pct ~ time\n",
      "       coef      p_values  R² values\n",
      "0  0.199135  9.466132e-66   0.005947\n",
      "1 -0.011720  2.319961e-01   0.005947\n",
      "tip_pct ~ net_bill\n",
      "       coef      p_values  R² values\n",
      "0  0.253815  2.038793e-75   0.189464\n",
      "1 -0.003735  1.311995e-12   0.189464\n",
      "tip_pct ~ sex\n",
      "       coef      p_values  R² values\n",
      "0  0.185937  9.420602e-94   0.008849\n",
      "1  0.013426  1.445536e-01   0.008849\n"
     ]
    }
   ],
   "source": [
    "formulas = (['tip_pct ~ sex + smoker + time + net_bill', \n",
    "             'tip_pct ~ smoker + time + net_bill',\n",
    "             'tip_pct ~ sex + smoker + time',\n",
    "             'tip_pct ~ sex + smoker + net_bill',\n",
    "             'tip_pct ~ time + net_bill',\n",
    "             'tip_pct ~ smoker + net_bill',\n",
    "             'tip_pct ~ smoker + time',\n",
    "             'tip_pct ~ sex + smoker',\n",
    "             'tip_pct ~ sex + net_bill',\n",
    "             'tip_pct ~ smoker',\n",
    "             'tip_pct ~ time',\n",
    "             'tip_pct ~ net_bill',\n",
    "             'tip_pct ~ sex'])\n",
    "\n",
    "for formula in formulas:\n",
    "    print(formula)\n",
    "    modelo(formula, tips_1)"
   ]
  },
  {
   "cell_type": "code",
   "execution_count": 11,
   "metadata": {},
   "outputs": [
    {
     "data": {
      "text/plain": [
       "<AxesSubplot:xlabel='net_bill'>"
      ]
     },
     "execution_count": 11,
     "metadata": {},
     "output_type": "execute_result"
    },
    {
     "data": {
      "image/png": "[encoded data removed]",
      "text/plain": [
       "<Figure size 640x480 with 1 Axes>"
      ]
     },
     "metadata": {},
     "output_type": "display_data"
    }
   ],
   "source": [
    "y, X = patsy.dmatrices('tip_pct ~ smoker + net_bill', data=tips_1)\n",
    "modelo = sm.OLS(y, X).fit()\n",
    "\n",
    "# usando residplot\n",
    "sns.residplot(data=tips_1 , x='net_bill', y=modelo.resid)"
   ]
  },
  {
   "cell_type": "code",
   "execution_count": 14,
   "metadata": {},
   "outputs": [
    {
     "name": "stdout",
     "output_type": "stream",
     "text": [
      "tip_pct ~ np.log(net_bill)\n",
      "       coef      p_values  R² values\n",
      "0  0.381804  1.386288e-40   0.221048\n",
      "1 -0.070160  1.033524e-14   0.221048\n",
      "tip_pct ~ net_bill + np.power(net_bill,2)\n",
      "       coef      p_values  R² values\n",
      "0  0.293224  3.584970e-35   0.205885\n",
      "1 -0.008210  9.856445e-05   0.205885\n",
      "2  0.000104  2.714734e-02   0.205885\n"
     ]
    }
   ],
   "source": [
    "formulas = ['tip_pct ~ np.log(net_bill)', 'tip_pct ~ net_bill + np.power(net_bill,2)']\n",
    "\n",
    "for formula in formulas:\n",
    "    print(formula)\n",
    "    modelo(formula, tips_1)"
   ]
  },
  {
   "cell_type": "markdown",
   "metadata": {},
   "source": [
    "O modelo log se saiu melhor."
   ]
  },
  {
   "cell_type": "code",
   "execution_count": 15,
   "metadata": {},
   "outputs": [
    {
     "data": {
      "text/plain": [
       "<AxesSubplot:xlabel='net_bill'>"
      ]
     },
     "execution_count": 15,
     "metadata": {},
     "output_type": "execute_result"
    },
    {
     "data": {
      "image/png": "[encoded data removed]",
      "text/plain": [
       "<Figure size 640x480 with 1 Axes>"
      ]
     },
     "metadata": {},
     "output_type": "display_data"
    }
   ],
   "source": [
    "y, X = patsy.dmatrices('tip_pct ~ np.log(net_bill)', data=tips_1)\n",
    "modelo = sm.OLS(y, X).fit()\n",
    "\n",
    "# usando residplot\n",
    "sns.residplot(data=tips_1, x='net_bill', y=modelo.resid)"
   ]
  },
  {
   "cell_type": "code",
   "execution_count": 16,
   "metadata": {},
   "outputs": [
    {
     "name": "stdout",
     "output_type": "stream",
     "text": [
      "R² do modelo com log:  0.22\n"
     ]
    }
   ],
   "source": [
    "print(f'R² do modelo com log: {modelo.rsquared: .2f}')"
   ]
  },
  {
   "cell_type": "markdown",
   "metadata": {},
   "source": [
    "O modelo que usa a tip como variável resposta possui um R² maior."
   ]
  },
  {
   "cell_type": "markdown",
   "metadata": {},
   "source": [
    "### III. Previsão de renda\n",
    "\n",
    "Vamos trabalhar a base que você vai usar no projeto do final deste ciclo.\n",
    "\n",
    "Carregue a base ```previsao_de_renda.csv```.\n",
    "\n",
    "|variavel|descrição|\n",
    "|-|-|\n",
    "|data_ref                | Data de referência de coleta das variáveis |\n",
    "|index                   | Código de identificação do cliente|\n",
    "|sexo                    | Sexo do cliente|\n",
    "|posse_de_veiculo        | Indica se o cliente possui veículo|\n",
    "|posse_de_imovel         | Indica se o cliente possui imóvel|\n",
    "|qtd_filhos              | Quantidade de filhos do cliente|\n",
    "|tipo_renda              | Tipo de renda do cliente|\n",
    "|educacao                | Grau de instrução do cliente|\n",
    "|estado_civil            | Estado civil do cliente|\n",
    "|tipo_residencia         | Tipo de residência do cliente (própria, alugada etc)|\n",
    "|idade                   | Idade do cliente|\n",
    "|tempo_emprego           | Tempo no emprego atual|\n",
    "|qt_pessoas_residencia   | Quantidade de pessoas que moram na residência|\n",
    "|renda                   | Renda em reais|\n",
    "\n",
    "1. Ajuste um modelo de regressão linear simples para explicar ```renda``` como variável resposta, por ```tempo_emprego``` como variável explicativa. Observe que há muitas observações nessa tabela. Utilize os recursos que achar necessário.\n",
    "2. Faça uma análise de resíduos. Com os recursos vistos neste módulo, como você melhoraria esta regressão?\n",
    "3. Ajuste um modelo de regressão linear múltipla para explicar ```renda``` (ou uma transformação de ```renda```) de acordo com as demais variáveis.\n",
    "4. Remova as variáveis não significantes e ajuste novamente o modelo. Interprete os parâmetros\n",
    "5. Faça uma análise de resíduos. Avalie a qualidade do ajuste."
   ]
  },
  {
   "cell_type": "code",
   "execution_count": 17,
   "metadata": {},
   "outputs": [],
   "source": [
    "# Checa se há dados faltantes\n",
    "\n",
    "def missing_values(df) -> None:\n",
    "    \n",
    "    \n",
    "    if True in df.isna().any().to_list():\n",
    "        print('Porcentagem de valores faltantes nas seguintes colunas: \\n')\n",
    "        missing_perc = 100 * df.isna().mean()\n",
    "        print(missing_perc)\n",
    "    else:\n",
    "        print('Não há valores faltantes.')\n",
    "    \n",
    "    return None\n",
    "\n",
    "# checa se há duplicatas\n",
    "\n",
    "def duplicated_values(df) -> None:\n",
    "    \n",
    "    \n",
    "    if df.shape[0] == df.drop_duplicates().shape[0]:\n",
    "        print('Não há duplicatas. \\n')\n",
    "    else:\n",
    "        num_duplicates = df.duplicated().sum()\n",
    "        print(f'Número de duplicatas: {num_duplicates}')\n",
    "        print(f'Porcentagem de dados únicos: {round(100*(1-num_duplicates/df.shape[0]), 2)}% \\n')\n",
    "    \n",
    "    \n",
    "    return None\n",
    "\n",
    "# confere o tipo de dados presentes na base pré-tratamento\n",
    "\n",
    "def data_type(df) -> None:\n",
    "    \n",
    "    print(f'Shape: {df.shape} \\n')\n",
    "    \n",
    "    # Seleciona colunas numéricas\n",
    "    num_cols = df.select_dtypes(include=['int64', 'float64']).columns.to_list()\n",
    "    print('\\nColunas numéricas:')\n",
    "    print(f'{num_cols}\\n')\n",
    "    \n",
    "    # Seleciona colunas categóricas\n",
    "    cat_cols = df.select_dtypes(include=['object', 'category', 'datetime64[ns]']).columns.to_list()\n",
    "    print('\\nColunas categóricas:')\n",
    "    print(f'{cat_cols} \\n')\n",
    "    \n",
    "    # Seleciona colunas bool\n",
    "    bool_cols = df.select_dtypes(include=['bool']).columns.to_list()\n",
    "    print('\\nColunas booleanas:')\n",
    "    print(f'{bool_cols} \\n')\n",
    "    \n",
    "    \n",
    "    return None\n",
    "\n",
    "# Checa dados preliminares da base de dados\n",
    "\n",
    "def checking_base(df) -> None:\n",
    "    \n",
    "    \n",
    "    data_type(df)\n",
    "    \n",
    "    print('Checagem de duplicatas:')\n",
    "    duplicated_values(df)\n",
    "     \n",
    "    missing_values(df)\n",
    "    \n",
    "    return None"
   ]
  },
  {
   "cell_type": "code",
   "execution_count": 18,
   "metadata": {},
   "outputs": [],
   "source": [
    "previsao_renda_df = pd.read_csv('previsao_de_renda.csv').drop(columns=['Unnamed: 0', 'sexo', 'index'])"
   ]
  },
  {
   "cell_type": "code",
   "execution_count": 19,
   "metadata": {},
   "outputs": [
    {
     "name": "stdout",
     "output_type": "stream",
     "text": [
      "Shape: (15000, 13) \n",
      "\n",
      "\n",
      "Colunas numéricas:\n",
      "['qtd_filhos', 'idade', 'tempo_emprego', 'qt_pessoas_residencia', 'renda']\n",
      "\n",
      "\n",
      "Colunas categóricas:\n",
      "['data_ref', 'tipo_renda', 'educacao', 'estado_civil', 'tipo_residencia'] \n",
      "\n",
      "\n",
      "Colunas booleanas:\n",
      "['posse_de_veiculo', 'posse_de_imovel', 'mau'] \n",
      "\n",
      "Checagem de duplicatas:\n",
      "Número de duplicatas: 453\n",
      "Porcentagem de dados únicos: 96.98% \n",
      "\n",
      "Porcentagem de valores faltantes nas seguintes colunas: \n",
      "\n",
      "data_ref                  0.000000\n",
      "posse_de_veiculo          0.000000\n",
      "posse_de_imovel           0.000000\n",
      "qtd_filhos                0.000000\n",
      "tipo_renda                0.000000\n",
      "educacao                  0.000000\n",
      "estado_civil              0.000000\n",
      "tipo_residencia           0.000000\n",
      "idade                     0.000000\n",
      "tempo_emprego            16.893333\n",
      "qt_pessoas_residencia     0.000000\n",
      "mau                       0.000000\n",
      "renda                     0.000000\n",
      "dtype: float64\n"
     ]
    }
   ],
   "source": [
    "checking_base(previsao_renda_df)"
   ]
  },
  {
   "cell_type": "markdown",
   "metadata": {},
   "source": [
    "Pela análise acima, temos que excluir os dados faltantes."
   ]
  },
  {
   "cell_type": "code",
   "execution_count": 20,
   "metadata": {},
   "outputs": [],
   "source": [
    "previsao_renda_df.dropna(subset=['tempo_emprego'], inplace=True)"
   ]
  },
  {
   "cell_type": "markdown",
   "metadata": {},
   "source": [
    "Checando novamente."
   ]
  },
  {
   "cell_type": "code",
   "execution_count": 21,
   "metadata": {},
   "outputs": [
    {
     "name": "stdout",
     "output_type": "stream",
     "text": [
      "Shape: (12466, 13) \n",
      "\n",
      "\n",
      "Colunas numéricas:\n",
      "['qtd_filhos', 'idade', 'tempo_emprego', 'qt_pessoas_residencia', 'renda']\n",
      "\n",
      "\n",
      "Colunas categóricas:\n",
      "['data_ref', 'tipo_renda', 'educacao', 'estado_civil', 'tipo_residencia'] \n",
      "\n",
      "\n",
      "Colunas booleanas:\n",
      "['posse_de_veiculo', 'posse_de_imovel', 'mau'] \n",
      "\n",
      "Checagem de duplicatas:\n",
      "Número de duplicatas: 379\n",
      "Porcentagem de dados únicos: 96.96% \n",
      "\n",
      "Não há valores faltantes.\n"
     ]
    }
   ],
   "source": [
    "checking_base(previsao_renda_df)"
   ]
  },
  {
   "cell_type": "code",
   "execution_count": 22,
   "metadata": {},
   "outputs": [],
   "source": [
    "# criando um dataset com as variáveis dummies\n",
    "prev_renda_dummies_df = pd.get_dummies(data=previsao_renda_df,\n",
    "                                      columns=['posse_de_veiculo', 'posse_de_imovel'],\n",
    "                                      prefix=['veiculo', 'imovel'],\n",
    "                                      drop_first=True)"
   ]
  },
  {
   "cell_type": "markdown",
   "metadata": {},
   "source": [
    "Cria uma lista de variáveis explicativas para renda"
   ]
  },
  {
   "cell_type": "markdown",
   "metadata": {},
   "source": [
    "A seguir é utilizado as combinações acima para o ajuste dos modelos."
   ]
  },
  {
   "cell_type": "code",
   "execution_count": 30,
   "metadata": {},
   "outputs": [
    {
     "name": "stdout",
     "output_type": "stream",
     "text": [
      "Model with variables: ('qtd_filhos',)\n",
      "R-squared:  0.00\n",
      "p-values: \n",
      "Intercept     0.000000\n",
      "qtd_filhos    0.070697\n",
      "dtype: float64\n",
      "\n",
      "Model with variables: ('idade',)\n",
      "R-squared:  0.02\n",
      "p-values: \n",
      "Intercept    1.520836e-17\n",
      "idade        8.750975e-65\n",
      "dtype: float64\n",
      "\n",
      "Model with variables: ('tempo_emprego',)\n",
      "R-squared:  0.16\n",
      "p-values: \n",
      "Intercept        0.0\n",
      "tempo_emprego    0.0\n",
      "dtype: float64\n",
      "\n",
      "Model with variables: ('qt_pessoas_residencia',)\n",
      "R-squared:  0.00\n",
      "p-values: \n",
      "Intercept                0.000000\n",
      "qt_pessoas_residencia    0.587008\n",
      "dtype: float64\n",
      "\n",
      "Model with variables: ('qtd_filhos', 'idade')\n",
      "R-squared:  0.02\n",
      "p-values: \n",
      "Intercept     9.371890e-11\n",
      "qtd_filhos    1.147321e-03\n",
      "idade         2.264978e-66\n",
      "dtype: float64\n",
      "\n",
      "Model with variables: ('qtd_filhos', 'tempo_emprego')\n",
      "R-squared:  0.16\n",
      "p-values: \n",
      "Intercept        1.343176e-307\n",
      "qtd_filhos        1.109886e-01\n",
      "tempo_emprego     0.000000e+00\n",
      "dtype: float64\n",
      "\n",
      "Model with variables: ('qtd_filhos', 'qt_pessoas_residencia')\n",
      "R-squared:  0.00\n",
      "p-values: \n",
      "Intercept                3.708520e-106\n",
      "qtd_filhos                1.646259e-03\n",
      "qt_pessoas_residencia     8.448705e-03\n",
      "dtype: float64\n",
      "\n",
      "Model with variables: ('idade', 'tempo_emprego')\n",
      "R-squared:  0.16\n",
      "p-values: \n",
      "Intercept        9.945077e-33\n",
      "idade            2.380332e-03\n",
      "tempo_emprego    0.000000e+00\n",
      "dtype: float64\n",
      "\n",
      "Model with variables: ('idade', 'qt_pessoas_residencia')\n",
      "R-squared:  0.02\n",
      "p-values: \n",
      "Intercept                4.668082e-05\n",
      "idade                    3.575100e-68\n",
      "qt_pessoas_residencia    6.777574e-05\n",
      "dtype: float64\n",
      "\n",
      "Model with variables: ('tempo_emprego', 'qt_pessoas_residencia')\n",
      "R-squared:  0.16\n",
      "p-values: \n",
      "Intercept                3.635875e-91\n",
      "tempo_emprego            0.000000e+00\n",
      "qt_pessoas_residencia    1.036306e-02\n",
      "dtype: float64\n",
      "\n",
      "Model with variables: ('qtd_filhos', 'idade', 'tempo_emprego')\n",
      "R-squared:  0.16\n",
      "p-values: \n",
      "Intercept        6.192787e-23\n",
      "qtd_filhos       1.075621e-02\n",
      "idade            2.807112e-04\n",
      "tempo_emprego    0.000000e+00\n",
      "dtype: float64\n",
      "\n",
      "Model with variables: ('qtd_filhos', 'idade', 'qt_pessoas_residencia')\n",
      "R-squared:  0.02\n",
      "p-values: \n",
      "Intercept                1.239633e-03\n",
      "qtd_filhos               4.295506e-01\n",
      "idade                    3.810214e-66\n",
      "qt_pessoas_residencia    1.495081e-02\n",
      "dtype: float64\n",
      "\n",
      "Model with variables: ('qtd_filhos', 'tempo_emprego', 'qt_pessoas_residencia')\n",
      "R-squared:  0.16\n",
      "p-values: \n",
      "Intercept                1.465527e-29\n",
      "qtd_filhos               7.909814e-02\n",
      "tempo_emprego            0.000000e+00\n",
      "qt_pessoas_residencia    7.647058e-03\n",
      "dtype: float64\n",
      "\n",
      "Model with variables: ('idade', 'tempo_emprego', 'qt_pessoas_residencia')\n",
      "R-squared:  0.16\n",
      "p-values: \n",
      "Intercept                1.750800e-12\n",
      "idade                    1.441931e-04\n",
      "tempo_emprego            0.000000e+00\n",
      "qt_pessoas_residencia    5.962030e-04\n",
      "dtype: float64\n",
      "\n",
      "Model with variables: ('qtd_filhos', 'idade', 'tempo_emprego', 'qt_pessoas_residencia')\n",
      "R-squared:  0.16\n",
      "p-values: \n",
      "Intercept                1.597132e-08\n",
      "qtd_filhos               2.065285e-01\n",
      "idade                    3.185732e-04\n",
      "tempo_emprego            0.000000e+00\n",
      "qt_pessoas_residencia    8.727242e-03\n",
      "dtype: float64\n",
      "\n"
     ]
    }
   ],
   "source": [
    "# Define a variavel resposta\n",
    "resposta = 'renda'\n",
    "\n",
    "# Define as variaveis explicatorias\n",
    "var_expla = ['qtd_filhos', 'idade', 'tempo_emprego', 'qt_pessoas_residencia']\n",
    "\n",
    "# Gera uma combinação das variaveis explicatorias\n",
    "combinacoes = []\n",
    "for r in range(1, len(var_expla) + 1):\n",
    "    combinacoes += list(itertools.combinations(var_expla, r))\n",
    "\n",
    "# Fita o modelo para cada combinacao\n",
    "respostas = {}\n",
    "for combinacao in combinacoes:\n",
    "    formula = resposta + ' ~ ' + ' + '.join(combinacao)\n",
    "    model = sm.formula.ols(formula=formula, data=prev_renda_dummies_df).fit()\n",
    "    respostas[combinacao] = model\n",
    "\n",
    "# Mostra o resultado na tela\n",
    "for combi, model in respostas.items():\n",
    "    print('Model with variables:', combi)\n",
    "    print(f'R-squared: {model.rsquared: .2f}')\n",
    "    print(f'p-values: \\n{model.pvalues}\\n')\n"
   ]
  },
  {
   "cell_type": "markdown",
   "metadata": {},
   "source": [
    "Ao inspecionar os resultados acima, vemos que o melhor modelo é com as variáveis explicativas:\n",
    "* idade\n",
    "* tempo_emprego\n",
    "\n",
    "Model with variables: ('idade', 'tempo_emprego')\n",
    "\n",
    "R-squared:  0.16\n",
    "\n",
    "p-values: \n",
    "\n",
    "Intercept        9.945077e-33\n",
    "\n",
    "idade            2.380332e-03\n",
    "\n",
    "tempo_emprego    0.000000e+00\n"
   ]
  }
 ],
 "metadata": {
  "kernelspec": {
   "display_name": "Python 3 (ipykernel)",
   "language": "python",
   "name": "python3"
  },
  "language_info": {
   "codemirror_mode": {
    "name": "ipython",
    "version": 3
   },
   "file_extension": ".py",
   "mimetype": "text/x-python",
   "name": "python",
   "nbconvert_exporter": "python",
   "pygments_lexer": "ipython3",
   "version": "3.10.8"
  }
 },
 "nbformat": 4,
 "nbformat_minor": 4
}
