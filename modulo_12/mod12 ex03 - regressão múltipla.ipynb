{
 "cells": [
  {
   "cell_type": "markdown",
   "metadata": {},
   "source": [
    "# Regressão 01 - tarefa 03 - transformações em X e Y"
   ]
  },
  {
   "cell_type": "markdown",
   "metadata": {},
   "source": [
    "Carregue os pacotes necessários e a base de gorjetas.\n",
    "\n",
    "### I. Modelo no valor da gorjeta\n",
    "\n",
    "1. Crie a matriz de design (e a matriz y) utilizando o Patsy, para um modelo em ```tip```, explicada por ```sex, smoker, diner e net_bill```.  \n",
    "2. Remova as variáveis não significantes.  \n",
    "3. observe o gráfico de resíduos em função de ```net_bill```  \n",
    "4. teste transformar ```net_bill``` no log e um polinômio. Escolha o melhor modelo."
   ]
  },
  {
   "cell_type": "code",
   "execution_count": 197,
   "metadata": {},
   "outputs": [],
   "source": [
    "import pandas as pd\n",
    "import seaborn as sns\n",
    "import patsy\n",
    "import statsmodels.api as sm\n",
    "import numpy as np\n",
    "import itertools"
   ]
  },
  {
   "cell_type": "code",
   "execution_count": 198,
   "metadata": {},
   "outputs": [],
   "source": [
    "# carrega a base de dados\n",
    "\n",
    "tips = sns.load_dataset('tips')\n",
    "tips['tip_pct'] = tips['tip']/(tips['total_bill'] - tips['tip'])\n",
    "tips['net_bill'] = tips['total_bill'] - tips['tip']\n",
    "\n",
    "tips.head()"
   ]
  },
  {
   "cell_type": "code",
   "execution_count": 199,
   "metadata": {},
   "outputs": [],
   "source": [
    "# ajustando o modelo\n",
    "\n",
    "def modelo(formula: str, df):\n",
    "    \n",
    "    \n",
    "    y_m, X_m = patsy.dmatrices(formula, data=df)\n",
    "    modelo_m = sm.OLS(y, X).fit()\n",
    "    #salva os coeficientes e os valores de p associados e o valores de R²\n",
    "    p_values = modelo_m.pvalues\n",
    "    coef = modelo_m.params\n",
    "    r_2_values = modelo_m.rsquared\n",
    "    \n",
    "    # cria um df com as informações acima\n",
    "    df = pd.DataFrame({'coef': coef, 'p_values': p_values, 'R² values': r_2_values})\n",
    "    print(df)"
   ]
  },
  {
   "cell_type": "code",
   "execution_count": 200,
   "metadata": {},
   "outputs": [],
   "source": [
    "formulas = (['tip ~ sex + smoker + time + net_bill', \n",
    "             'tip ~ smoker + time + net_bill',\n",
    "             'tip ~ sex + smoker + time',\n",
    "             'tip ~ sex + smoker + net_bill',\n",
    "             'tip ~ time + net_bill',\n",
    "             'tip ~ smoker + net_bill',\n",
    "             'tip ~ smoker + time',\n",
    "             'tip ~ sex + smoker',\n",
    "             'tip ~ sex + net_bill',\n",
    "             'tip ~ smoker',\n",
    "             'tip ~ time',\n",
    "             'tip ~ net_bill',\n",
    "             'tip ~ sex'])\n",
    "\n",
    "for formula in formulas:\n",
    "    print(formula)\n",
    "    modelo(formula, tips)"
   ]
  },
  {
   "cell_type": "markdown",
   "metadata": {},
   "source": [
    "A varíavel net_bill é que possui melhor descrição, e pode ser usada sozinha."
   ]
  },
  {
   "cell_type": "code",
   "execution_count": 201,
   "metadata": {},
   "outputs": [],
   "source": [
    "y, X = patsy.dmatrices('tip ~ net_bill', data=tips)\n",
    "modelo = sm.OLS(y, X).fit()\n",
    "\n",
    "# usando residplot\n",
    "sns.residplot(data=tips, x='net_bill', y=modelo.resid)"
   ]
  },
  {
   "cell_type": "code",
   "execution_count": 202,
   "metadata": {},
   "outputs": [],
   "source": [
    "formulas = ['tip ~ np.log(net_bill)', 'tip ~ net_bill + np.power(net_bill,2)']\n",
    "\n",
    "for formula in formulas:\n",
    "    print(formula)\n",
    "    modelo(formula, tips)"
   ]
  },
  {
   "cell_type": "markdown",
   "metadata": {},
   "source": [
    "O ajuste de net_bill por polinômios fornece um R² melhor que o do log. Porém, a variável sem ajustes já é suficiente para explicar."
   ]
  },
  {
   "cell_type": "markdown",
   "metadata": {},
   "source": [
    "### II. Modelo no valor do percentual da gorjeta\n",
    "\n",
    "1. Crie a matriz de design (e a matriz y) utilizando o Patsy, para um modelo no log de ```tip_pct```, explicado por ```sex, smoker, diner e net_bill```.\n",
    "2. Remova as variáveis não significantes.\n",
    "3. Observe o gráfico de resíduos em função de ```net_bill```\n",
    "4. Teste transformar ```net_bill``` no log e um polinômio. Escolha o melhor modelo.\n",
    "5. Do modelo final deste item, calcule o $R^2$ na escala de ```tip``` (sem o log). Compare com o modelo do item 1. Qual tem melhor coeficiente de determinação?"
   ]
  },
  {
   "cell_type": "code",
   "execution_count": 203,
   "metadata": {},
   "outputs": [],
   "source": [
    "# restringindo os valores de até 70% para a porcentagem\n",
    "\n",
    "tips_1 = tips[tips['tip_pct'] <= 0.7]"
   ]
  },
  {
   "cell_type": "code",
   "execution_count": 204,
   "metadata": {},
   "outputs": [],
   "source": [
    "formulas = (['tip_pct ~ sex + smoker + time + net_bill', \n",
    "             'tip_pct ~ smoker + time + net_bill',\n",
    "             'tip_pct ~ sex + smoker + time',\n",
    "             'tip_pct ~ sex + smoker + net_bill',\n",
    "             'tip_pct ~ time + net_bill',\n",
    "             'tip_pct ~ smoker + net_bill',\n",
    "             'tip_pct ~ smoker + time',\n",
    "             'tip_pct ~ sex + smoker',\n",
    "             'tip_pct ~ sex + net_bill',\n",
    "             'tip_pct ~ smoker',\n",
    "             'tip_pct ~ time',\n",
    "             'tip_pct ~ net_bill',\n",
    "             'tip_pct ~ sex'])\n",
    "\n",
    "for formula in formulas:\n",
    "    print(formula)\n",
    "    modelo(formula, tips_1)"
   ]
  },
  {
   "cell_type": "code",
   "execution_count": 205,
   "metadata": {},
   "outputs": [],
   "source": [
    "y, X = patsy.dmatrices('tip_pct ~ smoker + net_bill', data=tips_1)\n",
    "modelo = sm.OLS(y, X).fit()\n",
    "\n",
    "# usando residplot\n",
    "sns.residplot(data=tips_1 , x='net_bill', y=modelo.resid)"
   ]
  },
  {
   "cell_type": "code",
   "execution_count": 206,
   "metadata": {},
   "outputs": [],
   "source": [
    "formulas = ['tip_pct ~ np.log(net_bill)', 'tip_pct ~ net_bill + np.power(net_bill,2)']\n",
    "\n",
    "for formula in formulas:\n",
    "    print(formula)\n",
    "    modelo(formula, tips_1)"
   ]
  },
  {
   "cell_type": "markdown",
   "metadata": {},
   "source": [
    "O modelo log se saiu melhor."
   ]
  },
  {
   "cell_type": "code",
   "execution_count": 207,
   "metadata": {},
   "outputs": [],
   "source": [
    "y, X = patsy.dmatrices('tip_pct ~ np.log(net_bill)', data=tips_1)\n",
    "modelo = sm.OLS(y, X).fit()\n",
    "\n",
    "# usando residplot\n",
    "sns.residplot(data=tips_1, x='net_bill', y=modelo.resid)"
   ]
  },
  {
   "cell_type": "code",
   "execution_count": 208,
   "metadata": {},
   "outputs": [],
   "source": [
    "print(f'R² do modelo com log: {modelo.rsquared: .2f}')"
   ]
  },
  {
   "cell_type": "markdown",
   "metadata": {},
   "source": [
    "O modelo que usa a tip como variável resposta possui um R² maior."
   ]
  },
  {
   "cell_type": "markdown",
   "metadata": {},
   "source": [
    "### III. Previsão de renda\n",
    "\n",
    "Vamos trabalhar a base que você vai usar no projeto do final deste ciclo.\n",
    "\n",
    "Carregue a base ```previsao_de_renda.csv```.\n",
    "\n",
    "|variavel|descrição|\n",
    "|-|-|\n",
    "|data_ref                | Data de referência de coleta das variáveis |\n",
    "|index                   | Código de identificação do cliente|\n",
    "|sexo                    | Sexo do cliente|\n",
    "|posse_de_veiculo        | Indica se o cliente possui veículo|\n",
    "|posse_de_imovel         | Indica se o cliente possui imóvel|\n",
    "|qtd_filhos              | Quantidade de filhos do cliente|\n",
    "|tipo_renda              | Tipo de renda do cliente|\n",
    "|educacao                | Grau de instrução do cliente|\n",
    "|estado_civil            | Estado civil do cliente|\n",
    "|tipo_residencia         | Tipo de residência do cliente (própria, alugada etc)|\n",
    "|idade                   | Idade do cliente|\n",
    "|tempo_emprego           | Tempo no emprego atual|\n",
    "|qt_pessoas_residencia   | Quantidade de pessoas que moram na residência|\n",
    "|renda                   | Renda em reais|\n",
    "\n",
    "1. Ajuste um modelo de regressão linear simples para explicar ```renda``` como variável resposta, por ```tempo_emprego``` como variável explicativa. Observe que há muitas observações nessa tabela. Utilize os recursos que achar necessário.\n",
    "2. Faça uma análise de resíduos. Com os recursos vistos neste módulo, como você melhoraria esta regressão?\n",
    "3. Ajuste um modelo de regressão linear múltipla para explicar ```renda``` (ou uma transformação de ```renda```) de acordo com as demais variáveis.\n",
    "4. Remova as variáveis não significantes e ajuste novamente o modelo. Interprete os parâmetros\n",
    "5. Faça uma análise de resíduos. Avalie a qualidade do ajuste."
   ]
  },
  {
   "cell_type": "code",
   "execution_count": null,
   "metadata": {},
   "outputs": [],
   "source": [
    "previsao_renda_df = pd.read_csv('previsao_de_renda.csv')"
   ]
  },
  {
   "cell_type": "code",
   "execution_count": null,
   "metadata": {},
   "outputs": [],
   "source": [
    "previsao_renda_df.shape"
   ]
  },
  {
   "cell_type": "code",
   "execution_count": null,
   "metadata": {},
   "outputs": [],
   "source": [
    "previsao_renda_df.isna().sum()"
   ]
  },
  {
   "cell_type": "code",
   "execution_count": null,
   "metadata": {},
   "outputs": [],
   "source": [
    "# dropando os valores vazios:\n",
    "previsao_renda_df.dropna(inplace=True)"
   ]
  },
  {
   "cell_type": "code",
   "execution_count": null,
   "metadata": {},
   "outputs": [],
   "source": [
    "previsao_renda_df.dtypes"
   ]
  },
  {
   "cell_type": "code",
   "execution_count": null,
   "metadata": {},
   "outputs": [],
   "source": [
    "prev_renda_dummies = pd.get_dummies(previsao_de_renda.csv, \n",
    "                            columns=['posse_de_veiculo', 'posse_de_imovel', 'mau'], \n",
    "                            drop_first=True).drop(columns=['ano', 'mes'])"
   ]
  },
  {
   "cell_type": "code",
   "execution_count": null,
   "metadata": {},
   "outputs": [],
   "source": [
    "# ajusta o modelo\n",
    "\n",
    "modelo('renda ~ tempo_emprego', df=previsao_renda_df)"
   ]
  },
  {
   "cell_type": "code",
   "execution_count": null,
   "metadata": {},
   "outputs": [],
   "source": []
  }
 ],
 "metadata": {
  "kernelspec": {
   "display_name": "Python 3 (ipykernel)",
   "language": "python",
   "name": "python3"
  },
  "language_info": {
   "codemirror_mode": {
    "name": "ipython",
    "version": 3
   },
   "file_extension": ".py",
   "mimetype": "text/x-python",
   "name": "python",
   "nbconvert_exporter": "python",
   "pygments_lexer": "ipython3",
   "version": "3.10.8"
  }
 },
 "nbformat": 4,
 "nbformat_minor": 4
}
