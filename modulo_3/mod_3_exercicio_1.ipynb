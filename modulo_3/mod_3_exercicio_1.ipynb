{
  "cells": [
    {
      "cell_type": "markdown",
      "metadata": {
        "id": "HECpUmuf9vVp"
      },
      "source": [
        "### 01 - Teste de gravidez\n",
        "Escreva uma célula com controle de fluxos que tem como premissa a existência das seguintes variáveis:\n",
        "\n",
        "- ```sexo``` como ```str``` indicando os valores '**M**' para masculino e '**F**' para feminino  \n",
        "- ```beta_hcg``` que indica a quantidade do beta-HCG no sangue em mUI/mL.\n",
        "\n",
        "A sua tarefa é escrever um código que imprima como resultado \"indivíduo do sexo masculino\" quando sexo = 'M', caso sexo = 'F', se o valor de beta-HCG for maior que 5, retorne \"Positivo\" indicando que a paciente está grávida, e retorne \"Negativo\" caso contrário.\n",
        "\n",
        "Não mexa nos valores da variável ```sexo``` nem em ```beta_hcg```, e escreva um código que funcione para quaisquer valores possíveis de ambos: ```sexo``` = '**M**' ou '**F**' e ```beta_hcg``` assumindo valores inteiros positivos."
      ]
    },
    {
      "cell_type": "code",
      "execution_count": 3,
      "metadata": {
        "colab": {
          "base_uri": "https://localhost:8080/"
        },
        "id": "QkoaU7Mu9vV5",
        "outputId": "52c9c966-0e9b-4e14-bf09-625308301448"
      },
      "outputs": [
        {
          "output_type": "stream",
          "name": "stdout",
          "text": [
            "Teste de gravidez: \n",
            "\n",
            "Individuo do sexo masculino.\n"
          ]
        }
      ],
      "source": [
        "sexo = 'M'\n",
        "beta_hcg = 0\n",
        "\n",
        "\n",
        "print('Teste de gravidez: \\n')\n",
        "\n",
        "if sexo == 'F': \n",
        "    if beta_hcg > 5:\n",
        "        print('Positivo.')\n",
        "    if beta_hcg <= 5:\n",
        "        print('Negativo.')\n",
        "\n",
        "if sexo == 'M':\n",
        "    print('Individuo do sexo masculino.')\n",
        "    \n"
      ]
    },
    {
      "cell_type": "markdown",
      "metadata": {
        "id": "UF-p38wE9vWE"
      },
      "source": [
        "### 02 - Renomeando variáveis\n",
        "\n",
        "Vamos ver adiante que uma forma de renomear variáveis de um conjunto de dados é através de dicionários - o dicionário deve conter como chave o nome original, associando a cada chave um único valor (tipo *str*) que contenha o nome novo.\n",
        "\n",
        "A sua tarefa é escrever um dicionário que possa ser utilizado para traduzir as variáveis ```name``` (nome), ```age``` (idade) e ```income``` (renda). Ou seja, esse dicionário deve relacionar as chaves *name, age* e *income* às suas respectivas traduções."
      ]
    },
    {
      "cell_type": "code",
      "execution_count": 6,
      "metadata": {
        "colab": {
          "base_uri": "https://localhost:8080/"
        },
        "id": "uKWjYToD9vWI",
        "outputId": "53d3c3f3-3fe6-4bf4-8837-219f60454c62"
      },
      "outputs": [
        {
          "output_type": "stream",
          "name": "stdout",
          "text": [
            "{'name': 'Tavares', 'age': 47, 'income': 10000}\n"
          ]
        }
      ],
      "source": [
        "nome = 'Tavares'\n",
        "idade = 47\n",
        "renda = 10000\n",
        "\n",
        "dic_renomeacao = {'name': nome,\n",
        "                 'age': idade,\n",
        "                  'income': renda\n",
        "                 }\n",
        "print(dic_renomeacao)"
      ]
    },
    {
      "cell_type": "markdown",
      "metadata": {
        "id": "Ek6-JwSC9vWM"
      },
      "source": [
        "### 03 - É divisível?\n",
        "A sua tarefa é escrever um código que indique se um número ```N``` é divisível por um número P. Escreva um programa que faça essa verificação para quaisquer combinações de ```N``` e ```M``` e devolva uma mensagem indicativa no output."
      ]
    },
    {
      "cell_type": "code",
      "execution_count": 9,
      "metadata": {
        "colab": {
          "base_uri": "https://localhost:8080/"
        },
        "id": "cBghFkGF9vWR",
        "outputId": "698de436-36d9-4329-ecb7-36bd9330c17b"
      },
      "outputs": [
        {
          "output_type": "stream",
          "name": "stdout",
          "text": [
            "42 é divisivel por 2.\n"
          ]
        }
      ],
      "source": [
        "N = 42\n",
        "M = 2\n",
        "\n",
        "resto = N%M\n",
        "type(resto)\n",
        "\n",
        "if resto != 0:\n",
        "    print(f'{N} não é divisivel por {M}.')\n",
        "else:\n",
        "    print(f'{N} é divisivel por {M}.')"
      ]
    },
    {
      "cell_type": "markdown",
      "metadata": {
        "id": "jnrLRkOd9vWX"
      },
      "source": [
        "### 04 - Números primos\n",
        "> Um número **N** é primo se e somente se é divisível por 1, -1, por **N** e por -**N**.  \n",
        "\n",
        "Escreva um script que verifica se ```N``` é um número primo, verificando se ```N``` é divisível por todos os números de ```1``` a ```N-1```. Você vai precisar usar alguma ferramenta de *loop* que você aprendeu para isto. No final, devolva uma mensagem no output indicando se o número é primo ou não."
      ]
    },
    {
      "cell_type": "code",
      "execution_count": 10,
      "metadata": {
        "colab": {
          "base_uri": "https://localhost:8080/"
        },
        "id": "7XqysL9J9vWa",
        "outputId": "0891f68c-b081-4e79-c833-a6f28b5a5368"
      },
      "outputs": [
        {
          "output_type": "stream",
          "name": "stdout",
          "text": [
            "71 é primo!\n"
          ]
        }
      ],
      "source": [
        "N = 71\n",
        "\n",
        "# seu código abaixo\n",
        "\n",
        "resto = 0\n",
        "indice = []\n",
        "verificacao = [-1,1,N]\n",
        "\n",
        "for index in range(-1,N+1):\n",
        "    \n",
        "    if index == 0:  #nao pode dividir por zero\n",
        "        pass\n",
        "    else:\n",
        "        resto = N%index\n",
        "        if resto == 0:\n",
        "            indice.append(index)\n",
        "\n",
        "if indice == verificacao:\n",
        "    print(f'{N} é primo!')\n",
        "else:\n",
        "    print(f'{N} não é primo!')\n"
      ]
    },
    {
      "cell_type": "markdown",
      "metadata": {
        "id": "toug_SM99vWe"
      },
      "source": [
        "### 05 - Desafio\n",
        "O algorítmo do exercício anterior não é o mais eficiente. O que você pode fazer para deixá-lo mais eficiente? Ou seja, executar menos comparações, portanto consumir menos tempo.\n",
        "1. Será que precisamos correr o loop até o final sempre?\n",
        "2. Será que precisamos mesmo verificar **todos** os números?\n",
        "3. Será que precisamos ir até N-1?\n",
        "\n",
        "Essas perguntas levam ao tipo de pensamento voltado a deixar um algoritmo mais eficiente. Veja se você consegue melhorar o seu."
      ]
    },
    {
      "cell_type": "code",
      "execution_count": 15,
      "metadata": {
        "colab": {
          "base_uri": "https://localhost:8080/"
        },
        "id": "Q5YscCi59vWr",
        "outputId": "968b5af7-b909-4d58-96f1-115ee9f29ceb"
      },
      "outputs": [
        {
          "output_type": "stream",
          "name": "stdout",
          "text": [
            "101 é primo!\n"
          ]
        }
      ],
      "source": [
        "import math\n",
        "\n",
        "N = 101\n",
        "\n",
        "# seu código abaixo\n",
        "\n",
        "resto = 0\n",
        "indice = []\n",
        "verificacao = [-1,1]\n",
        "\n",
        "for index in range(-1, int(math.sqrt(N)+1)):  # um numero pode ser escrito como x = ab, \n",
        "    \n",
        "    if index == 0:  #nao pode dividir por zero\n",
        "        pass\n",
        "    else:\n",
        "        resto = N%index\n",
        "        if resto == 0:\n",
        "            indice.append(index)\n",
        "\n",
        "if indice == verificacao:\n",
        "    print(f'{N} é primo!')\n",
        "else:\n",
        "    print(f'{N} não é primo!')\n",
        "\n"
      ]
    },
    {
      "cell_type": "markdown",
      "metadata": {
        "id": "Pacu_XDV9vXJ"
      },
      "source": [
        "### 06 - Peso ideal 1\n",
        "O IMC (índice de massa corpórea) é um indicador de saúde mais bem aceito que o peso. Ele é calculado como:\n",
        "\n",
        "$$ IMC = \\dfrac{peso}{altura^2}$$\n",
        "\n",
        "Segundo a OMS, valores *normais* são entre 18.5 e 24.9.\n",
        "\n",
        "Sua tarefa é encontrar o ponto médio dessa faixa."
      ]
    },
    {
      "cell_type": "code",
      "execution_count": 16,
      "metadata": {
        "colab": {
          "base_uri": "https://localhost:8080/"
        },
        "id": "wcbbWamf9vXN",
        "outputId": "056580fc-ebc3-47c0-e11e-c1b04a759eb7"
      },
      "outputs": [
        {
          "output_type": "stream",
          "name": "stdout",
          "text": [
            "ponto medio: 21.7\n"
          ]
        }
      ],
      "source": [
        "imc_ideal = (18.5+24.9)/2\n",
        "print(f'ponto medio: {imc_ideal}')"
      ]
    },
    {
      "cell_type": "markdown",
      "metadata": {
        "id": "svzosrJB9vXW"
      },
      "source": [
        "### 07 - Peso ideal 2\n",
        "Recebendo um valor de altura, encontre o peso '*ideal*' dessa pessoa, que fornece o IMC encontrado acima"
      ]
    },
    {
      "cell_type": "code",
      "execution_count": 19,
      "metadata": {
        "colab": {
          "base_uri": "https://localhost:8080/"
        },
        "id": "aDMNBBsy9vXc",
        "outputId": "efbe0b2c-6c0a-43d6-d400-18fe8f5cdee4"
      },
      "outputs": [
        {
          "output_type": "stream",
          "name": "stdout",
          "text": [
            "62.71 Kg\n"
          ]
        }
      ],
      "source": [
        "altura = 1.70\n",
        "\n",
        "# Seu código\n",
        "peso_ideal = (imc_ideal*(altura**2))\n",
        "print(f'{round(peso_ideal,2)} Kg')"
      ]
    },
    {
      "cell_type": "markdown",
      "metadata": {
        "id": "hmCZpT8U9vXf"
      },
      "source": [
        "### 08 - Peso ideal 3\n",
        "Dada uma lista contendo as alturas de pacientes, crie uma nova lista que contenha o peso '*ideal*' (que fornece o IMC calculado em **Peso ideal 1**) desses pacientes."
      ]
    },
    {
      "cell_type": "code",
      "execution_count": 21,
      "metadata": {
        "colab": {
          "base_uri": "https://localhost:8080/"
        },
        "id": "uNkqY3wl9vXg",
        "outputId": "840e2d01-34a7-4b46-b3cc-f527c369cdef"
      },
      "outputs": [
        {
          "output_type": "stream",
          "name": "stdout",
          "text": [
            "[82.51, 91.19, 62.71, 59.08]\n"
          ]
        }
      ],
      "source": [
        "lista_alturas = [1.95, 2.05, 1.70, 1.65]\n",
        "    \n",
        "lista_peso_ideal = []\n",
        "\n",
        "# seu código\n",
        "\n",
        "for i in lista_alturas:\n",
        "    peso_ideal = round((imc_ideal)*(i**2),2)\n",
        "    lista_peso_ideal.append(peso_ideal)\n",
        "\n",
        "print(lista_peso_ideal)"
      ]
    },
    {
      "cell_type": "markdown",
      "metadata": {
        "id": "yKwm3AcC9vXq"
      },
      "source": [
        "### 09 - Peso ideal 4\n",
        "Dada uma lista de tuplas - cada elemento da lista é uma tupla contendo altura e peso de um paciente - crie uma nova lista com o IMC desses pacientes."
      ]
    },
    {
      "cell_type": "code",
      "execution_count": 22,
      "metadata": {
        "colab": {
          "base_uri": "https://localhost:8080/"
        },
        "id": "Tj6BpjHE9vXt",
        "outputId": "60b3f80a-9415-4357-bc76-b325f84d8623"
      },
      "outputs": [
        {
          "output_type": "stream",
          "name": "stdout",
          "text": [
            "[27.78, 27.55, 19.19]\n"
          ]
        }
      ],
      "source": [
        "altura_peso = [(1.80, 90), (1.65, 75), (1.91, 70)]\n",
        "\n",
        "imc = []\n",
        "\n",
        "# seu código\n",
        "\n",
        "for altura,peso in altura_peso:\n",
        "    imc_valor = round((peso)/(altura**2),2)\n",
        "    imc.append(imc_valor)\n",
        "\n",
        "print(imc)"
      ]
    },
    {
      "cell_type": "markdown",
      "metadata": {
        "id": "CJpYaNYO9vXz"
      },
      "source": [
        "### 10 - Peso ideal 5\n",
        "Dada uma lista de **listas** - cada elemento da lista é uma **lista** contendo altura e peso de um paciente, adicione mais um elemento à lista de cada paciente contendo o IMC do paciente. Verifique também se é 'baixo', 'normal' ou 'alto' segundo os padrões da OMS em que normal é entre 18.5 e 24.9.\n",
        "\n",
        "Reflexão: por que no problema anterior temos que criar uma nova lista, e não podemos adicionar os dados de cada indivíduo à tupla?"
      ]
    },
    {
      "cell_type": "code",
      "execution_count": 59,
      "metadata": {
        "colab": {
          "base_uri": "https://localhost:8080/"
        },
        "id": "7blnVcj09vX0",
        "outputId": "24874e8a-3c42-4694-9725-a959c2f80a8f"
      },
      "outputs": [
        {
          "output_type": "stream",
          "name": "stdout",
          "text": [
            "[[1.8, 90, 27.78, 'Alto'], [1.65, 75, 27.55, 'Alto'], [1.91, 70, 19.19, 'Normal']]\n"
          ]
        }
      ],
      "source": [
        "altura_peso = [[1.80, 90], [1.65, 75], [1.91, 70]]\n",
        "\n",
        "# seu código\n",
        "\n",
        "imc = []\n",
        "\n",
        "for index in altura_peso:\n",
        "    imc_valor = round((index[1])/(index[0]**2),2)\n",
        "    imc.append(imc_valor)\n",
        "\n",
        "for i,j in enumerate(imc):\n",
        "    if j > 24.9:\n",
        "        altura_peso[i].append(j)\n",
        "        altura_peso[i].append('Alto')\n",
        "    if j < 18.5:\n",
        "        altura_peso[i].append(j)\n",
        "        altura_peso[i].append('Baixo')\n",
        "    if j >= 18.5 and j <= 24.9:\n",
        "        altura_peso[i].append(j)\n",
        "        altura_peso[i].append('Normal')\n",
        "        \n",
        "print(altura_peso)"
      ]
    }
  ],
  "metadata": {
    "kernelspec": {
      "display_name": "Python 3 (ipykernel)",
      "language": "python",
      "name": "python3"
    },
    "language_info": {
      "codemirror_mode": {
        "name": "ipython",
        "version": 3
      },
      "file_extension": ".py",
      "mimetype": "text/x-python",
      "name": "python",
      "nbconvert_exporter": "python",
      "pygments_lexer": "ipython3",
      "version": "3.9.13"
    },
    "colab": {
      "provenance": []
    }
  },
  "nbformat": 4,
  "nbformat_minor": 0
}